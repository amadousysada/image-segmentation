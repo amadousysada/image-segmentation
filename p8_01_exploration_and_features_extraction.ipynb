{
  "cells": [
    {
      "cell_type": "markdown",
      "metadata": {
        "id": "view-in-github",
        "colab_type": "text"
      },
      "source": [
        "<a href=\"https://colab.research.google.com/github/amadousysada/image-segmentation/blob/main/p8_01_exploration_and_features_extraction.ipynb\" target=\"_parent\"><img src=\"https://colab.research.google.com/assets/colab-badge.svg\" alt=\"Open In Colab\"/></a>"
      ]
    },
    {
      "cell_type": "markdown",
      "source": [
        "# Introduction"
      ],
      "metadata": {
        "id": "beHydnOTyZGU"
      },
      "id": "beHydnOTyZGU"
    },
    {
      "cell_type": "markdown",
      "source": [
        "## Import des librairies"
      ],
      "metadata": {
        "id": "6eSjDnNGy6zf"
      },
      "id": "6eSjDnNGy6zf"
    },
    {
      "cell_type": "code",
      "execution_count": 1,
      "id": "fe40d0f2-4469-471e-be3a-4677ca320c39",
      "metadata": {
        "id": "fe40d0f2-4469-471e-be3a-4677ca320c39",
        "outputId": "ca412d2c-f4a7-43b5-80aa-b9e756d638ae",
        "colab": {
          "base_uri": "https://localhost:8080/"
        }
      },
      "outputs": [
        {
          "output_type": "stream",
          "name": "stdout",
          "text": [
            "Versions:\n",
            "  - Pandas =>: 2.2.2\n",
            "  - Numpy  =>: 2.0.2\n"
          ]
        }
      ],
      "source": [
        "import os\n",
        "\n",
        "import numpy as np\n",
        "import pandas as pd\n",
        "\n",
        "\n",
        "print(\"Versions:\")\n",
        "print(f\"{' '*2}- Pandas =>: {pd.__version__}\")\n",
        "print(f\"{' '*2}- Numpy  =>: {np.__version__}\")"
      ]
    }
  ],
  "metadata": {
    "kernelspec": {
      "display_name": "p6_env",
      "language": "python",
      "name": "p6_env"
    },
    "language_info": {
      "codemirror_mode": {
        "name": "ipython",
        "version": 3
      },
      "file_extension": ".py",
      "mimetype": "text/x-python",
      "name": "python",
      "nbconvert_exporter": "python",
      "pygments_lexer": "ipython3",
      "version": "3.12.9"
    },
    "colab": {
      "provenance": [],
      "toc_visible": true,
      "include_colab_link": true
    }
  },
  "nbformat": 4,
  "nbformat_minor": 5
}