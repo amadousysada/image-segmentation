{
 "cells": [
  {
   "cell_type": "code",
   "execution_count": 20,
   "id": "fe40d0f2-4469-471e-be3a-4677ca320c39",
   "metadata": {},
   "outputs": [
    {
     "name": "stdout",
     "output_type": "stream",
     "text": [
      "Versions:\n",
      "  - Pandas =>: 2.2.3\n",
      "  - Numpy  =>: 1.26.4\n"
     ]
    }
   ],
   "source": [
    "import os\n",
    "import pandas as pd\n",
    "import numpy as np\n",
    "\n",
    "\n",
    "print(\"Versions:\")\n",
    "print(f\"{' '*2}- Pandas =>: {pd.__version__}\")\n",
    "print(f\"{' '*2}- Numpy  =>: {np.__version__}\")"
   ]
  }
 ],
 "metadata": {
  "kernelspec": {
   "display_name": "p6_env",
   "language": "python",
   "name": "p6_env"
  },
  "language_info": {
   "codemirror_mode": {
    "name": "ipython",
    "version": 3
   },
   "file_extension": ".py",
   "mimetype": "text/x-python",
   "name": "python",
   "nbconvert_exporter": "python",
   "pygments_lexer": "ipython3",
   "version": "3.12.9"
  }
 },
 "nbformat": 4,
 "nbformat_minor": 5
}
